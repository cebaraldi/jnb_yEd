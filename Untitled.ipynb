{
 "cells": [
  {
   "cell_type": "markdown",
   "id": "7764605d-5e95-4e2f-a4df-0bf334fec251",
   "metadata": {},
   "source": [
    "# \n",
    "[pyyed](https://github.com/jamesscottbrown/pyyed)"
   ]
  },
  {
   "cell_type": "code",
   "execution_count": 1,
   "id": "ddab5d79-5e90-4bcc-b3d3-c7012a2d33eb",
   "metadata": {},
   "outputs": [],
   "source": [
    "import pyyed"
   ]
  },
  {
   "cell_type": "code",
   "execution_count": 2,
   "id": "f771e9c1-862c-4eff-bb87-963a3fa507d8",
   "metadata": {},
   "outputs": [
    {
     "name": "stdout",
     "output_type": "stream",
     "text": [
      "<graphml xmlns=\"http://graphml.graphdrawing.org/xmlns\" xmlns:java=\"http://www.yworks.com/xml/yfiles-common/1.0/java\" xmlns:sys=\"http://www.yworks.com/xml/yfiles-common/markup/primitives/2.0\" xmlns:x=\"http://www.yworks.com/xml/yfiles-common/markup/2.0\" xmlns:xsi=\"http://www.w3.org/2001/XMLSchema-instance\" xmlns:y=\"http://www.yworks.com/xml/graphml\" xmlns:yed=\"http://www.yworks.com/xml/yed/3\" xsi:schemaLocation=\"http://graphml.graphdrawing.org/xmlns http://www.yworks.com/xml/schema/graphml/1.1/ygraphml.xsd\"><key id=\"data_node\" for=\"node\" yfiles.type=\"nodegraphics\" /><key id=\"url_node\" for=\"node\" attr.name=\"url\" attr.type=\"string\" /><key id=\"description_node\" for=\"node\" attr.name=\"description\" attr.type=\"string\" /><key id=\"url_edge\" for=\"edge\" attr.name=\"url\" attr.type=\"string\" /><key id=\"description_edge\" for=\"edge\" attr.name=\"description\" attr.type=\"string\" /><key id=\"data_edge\" for=\"edge\" yfiles.type=\"edgegraphics\" /><graph edgedefault=\"directed\" id=\"G\"><node id=\"foo\"><data key=\"data_node\"><y:ShapeNode><y:Fill color=\"#FF0000\" transparent=\"false\" /><y:BorderStyle color=\"#000000\" type=\"line\" width=\"1.0\" /><y:NodeLabel horizontalTextPosition=\"center\" verticalTextPosition=\"center\" alignment=\"center\" fontStyle=\"plain\" fontFamily=\"Zapfino\" iconTextGap=\"4\" fontSize=\"12\" textColor=\"#000000\" visible=\"true\" underlinedText=\"false\" hasBackgroundColor=\"false\" width=\"55.708984375\" height=\"18.1328125\" modelName=\"internal\" modelPosition=\"c\">foo</y:NodeLabel><y:Shape type=\"rectangle\" /></y:ShapeNode></data></node><node id=\"foo2\"><data key=\"data_node\"><y:ShapeNode><y:Fill color=\"#FF0000\" transparent=\"false\" /><y:BorderStyle color=\"#000000\" type=\"line\" width=\"1.0\" /><y:NodeLabel horizontalTextPosition=\"center\" verticalTextPosition=\"center\" alignment=\"center\" fontStyle=\"bolditalic\" fontFamily=\"Dialog\" iconTextGap=\"4\" fontSize=\"12\" textColor=\"#000000\" visible=\"true\" underlinedText=\"true\" hasBackgroundColor=\"false\" width=\"55.708984375\" height=\"18.1328125\" modelName=\"internal\" modelPosition=\"c\">foo2</y:NodeLabel><y:Shape type=\"roundrectangle\" /></y:ShapeNode></data></node><node id=\"foo1\"><data key=\"data_node\"><y:ShapeNode><y:Fill color=\"#FF0000\" transparent=\"false\" /><y:BorderStyle color=\"#000000\" type=\"line\" width=\"1.0\" /><y:NodeLabel horizontalTextPosition=\"center\" verticalTextPosition=\"center\" alignment=\"center\" fontStyle=\"plain\" fontFamily=\"Dialog\" iconTextGap=\"4\" fontSize=\"12\" textColor=\"#000000\" visible=\"true\" underlinedText=\"false\" hasBackgroundColor=\"false\" width=\"55.708984375\" height=\"18.1328125\" modelName=\"internal\" modelPosition=\"c\">foo1</y:NodeLabel><y:Shape type=\"rectangle\" /></y:ShapeNode></data></node><node id=\"abc\"><data key=\"data_node\"><y:ShapeNode><y:Geometry height=\"100\" /><y:Fill color=\"#FFFFFF\" transparent=\"false\" /><y:BorderStyle color=\"#000000\" type=\"line\" width=\"1.0\" /><y:NodeLabel horizontalTextPosition=\"center\" verticalTextPosition=\"center\" alignment=\"center\" fontStyle=\"plain\" fontFamily=\"Dialog\" iconTextGap=\"4\" fontSize=\"72\" textColor=\"#000000\" visible=\"true\" underlinedText=\"false\" hasBackgroundColor=\"false\" width=\"55.708984375\" height=\"18.1328125\" modelName=\"internal\" modelPosition=\"c\">abc</y:NodeLabel><y:Shape type=\"rectangle\" /></y:ShapeNode></data></node><node id=\"bar\"><data key=\"data_node\"><y:ShapeNode><y:Fill color=\"#FF0000\" transparent=\"false\" /><y:BorderStyle color=\"#000000\" type=\"line\" width=\"1.0\" /><y:NodeLabel horizontalTextPosition=\"center\" verticalTextPosition=\"center\" alignment=\"center\" fontStyle=\"plain\" fontFamily=\"Dialog\" iconTextGap=\"4\" fontSize=\"12\" textColor=\"#000000\" visible=\"true\" underlinedText=\"false\" hasBackgroundColor=\"false\" width=\"55.708984375\" height=\"18.1328125\" modelName=\"internal\" modelPosition=\"c\">Multi\n",
      "line\n",
      "text</y:NodeLabel><y:Shape type=\"rectangle\" /></y:ShapeNode></data></node><node id=\"foobar\"><data key=\"data_node\"><y:ShapeNode><y:Fill color=\"#FF0000\" transparent=\"false\" /><y:BorderStyle color=\"#000000\" type=\"line\" width=\"1.0\" /><y:NodeLabel horizontalTextPosition=\"center\" verticalTextPosition=\"center\" alignment=\"center\" fontStyle=\"plain\" fontFamily=\"Dialog\" iconTextGap=\"4\" fontSize=\"12\" textColor=\"#000000\" visible=\"true\" underlinedText=\"false\" hasBackgroundColor=\"false\" width=\"55.708984375\" height=\"18.1328125\" modelName=\"internal\" modelPosition=\"c\">Multi\n",
      "    Line\n",
      "    Text!</y:NodeLabel><y:Shape type=\"rectangle\" /></y:ShapeNode></data></node><edge id=\"1\" source=\"foo1\" target=\"foo2\"><data key=\"data_edge\"><y:PolyLineEdge><y:Arrows source=\"none\" target=\"standard\" /><y:LineStyle color=\"#000000\" type=\"line\" width=\"1.0\" /></y:PolyLineEdge></data></edge><edge id=\"2\" source=\"foo\" target=\"foo1\"><data key=\"data_edge\"><y:PolyLineEdge><y:Arrows source=\"standard\" target=\"white_diamond\" /><y:LineStyle color=\"#0000FF\" type=\"dotted\" width=\"3.0\" /><y:EdgeLabel horizontalTextPosition=\"center\" verticalTextPosition=\"center\" alignment=\"center\" fontStyle=\"plain\" fontFamily=\"Dialog\" iconTextGap=\"4\" fontSize=\"12\" textColor=\"#000000\" visible=\"true\" underlinedText=\"false\" hasBackgroundColor=\"false\" width=\"55.708984375\" height=\"18.1328125\" borderColor=\"\" backgroundColor=\"\" modelName=\"centered\" modelPosition=\"center\">EDGE!</y:EdgeLabel></y:PolyLineEdge></data></edge></graph></graphml>\n"
     ]
    }
   ],
   "source": [
    "g = pyyed.Graph()\n",
    "\n",
    "g.add_node('foo', font_family=\"Zapfino\")\n",
    "g.add_node('foo2', shape=\"roundrectangle\", font_style=\"bolditalic\", underlined_text=\"true\")\n",
    "\n",
    "g.add_edge('foo1', 'foo2')\n",
    "g.add_node('abc', font_size=\"72\", height=\"100\", shape_fill=\"#FFFFFF\")\n",
    "\n",
    "g.add_node('bar', label=\"Multi\\nline\\ntext\")\n",
    "g.add_node('foobar', label=\"\"\"Multi\n",
    "    Line\n",
    "    Text!\"\"\")\n",
    "\n",
    "g.add_edge('foo', 'foo1', label=\"EDGE!\", width=\"3.0\", color=\"#0000FF\", \n",
    "               arrowhead=\"white_diamond\", arrowfoot=\"standard\", line_type=\"dotted\")\n",
    "\n",
    "print(g.get_graph())\n",
    "\n",
    "# To write to file:\n",
    "with open('test_graph.graphml', 'w') as fp:\n",
    "    fp.write(g.get_graph())\n",
    "\n",
    "# Or:\n",
    "g.write_graph('example.graphml')\n",
    "\n",
    "# Or, to pretty-print with whitespace:\n",
    "g.write_graph('pretty_example.graphml', pretty_print=True)"
   ]
  },
  {
   "cell_type": "code",
   "execution_count": null,
   "id": "ca5f3a1a-975b-42a1-a9bc-31d3b7470a5d",
   "metadata": {},
   "outputs": [],
   "source": []
  }
 ],
 "metadata": {
  "kernelspec": {
   "display_name": "Python 3 (ipykernel)",
   "language": "python",
   "name": "python3"
  },
  "language_info": {
   "codemirror_mode": {
    "name": "ipython",
    "version": 3
   },
   "file_extension": ".py",
   "mimetype": "text/x-python",
   "name": "python",
   "nbconvert_exporter": "python",
   "pygments_lexer": "ipython3",
   "version": "3.10.9"
  }
 },
 "nbformat": 4,
 "nbformat_minor": 5
}
